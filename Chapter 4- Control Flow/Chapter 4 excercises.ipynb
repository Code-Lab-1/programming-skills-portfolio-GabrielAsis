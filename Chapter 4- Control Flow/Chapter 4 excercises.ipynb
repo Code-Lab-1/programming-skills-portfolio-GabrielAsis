{
 "cells": [
  {
   "cell_type": "markdown",
   "metadata": {},
   "source": [
    "Exercise 1:  Alien Colors #1\n",
    "\n",
    "Imagine an alien was just shot down in a game. Create a variable called alien_color and assign it a value of 'green', 'yellow', or 'red'.\n",
    "\n",
    "•Write an if statement to test whether the alien’s color is green. If it is, print a message that the player just earned 5 points.\n",
    "\n",
    "•Write one version of this program that passes the if test and another that fails. (The version that fails will have no output.)"
   ]
  },
  {
   "cell_type": "code",
   "execution_count": 4,
   "metadata": {},
   "outputs": [
    {
     "name": "stdout",
     "output_type": "stream",
     "text": [
      "5\n"
     ]
    }
   ],
   "source": [
    "alien=\"green\"\n",
    "points=0\n",
    "if alien == \"green\":\n",
    "    print(points+5)\n"
   ]
  },
  {
   "cell_type": "markdown",
   "metadata": {},
   "source": [
    "Fails if test:"
   ]
  },
  {
   "cell_type": "code",
   "execution_count": 1,
   "metadata": {},
   "outputs": [],
   "source": [
    "alien=\"blue\"\n",
    "points=0\n",
    "if alien == \"green\":\n",
    "    print(points+5)\n"
   ]
  },
  {
   "cell_type": "markdown",
   "metadata": {},
   "source": [
    "Exercise 2: Alien Colors #2\n",
    "\n",
    "Choose a color for an alien as you did in Exercise 5-3, and write an if-else chain.\n",
    "\n",
    "•If the alien’s color is green, print a statement that the player just earned 5 points for shooting the alien.\n",
    "\n",
    "•If the alien’s color isn’t green, print a statement that the player just earned 10 points.\n",
    "\n",
    "•Write one version of this program that runs the if block and another that runs the else block."
   ]
  },
  {
   "cell_type": "markdown",
   "metadata": {},
   "source": [
    "Runs if statement:"
   ]
  },
  {
   "cell_type": "code",
   "execution_count": 6,
   "metadata": {},
   "outputs": [
    {
     "name": "stdout",
     "output_type": "stream",
     "text": [
      "5\n"
     ]
    }
   ],
   "source": [
    "alien=\"green\"\n",
    "points=0\n",
    "if alien == \"green\":\n",
    "    print(points+5)\n",
    "else:\n",
    "    print(points+10)"
   ]
  },
  {
   "cell_type": "markdown",
   "metadata": {},
   "source": [
    "Runs else statement"
   ]
  },
  {
   "cell_type": "code",
   "execution_count": 7,
   "metadata": {},
   "outputs": [
    {
     "name": "stdout",
     "output_type": "stream",
     "text": [
      "10\n"
     ]
    }
   ],
   "source": [
    "alien=\"blue\"\n",
    "points=0\n",
    "if alien == \"green\":\n",
    "    print(points+5)\n",
    "else:\n",
    "    print(points+10)"
   ]
  },
  {
   "cell_type": "markdown",
   "metadata": {},
   "source": [
    "Exercise 3: Alien Colors #3\n",
    "\n",
    "Turn your if-else chain from Exercise 5-4 into an if-elifelse chain.\n",
    "\n",
    "•\t If the alien is green, print a message that the player earned 5 points.\n",
    "\n",
    "•\t If the alien is yellow, print a message that the player earned 10 points.\n",
    "\n",
    "•\t If the alien is red, print a message that the player earned 15 points.\n",
    "\n",
    "•\t Write three versions of this program, making sure each message is printed for the appropriate color alien."
   ]
  },
  {
   "cell_type": "markdown",
   "metadata": {},
   "source": [
    "Green"
   ]
  },
  {
   "cell_type": "code",
   "execution_count": 8,
   "metadata": {},
   "outputs": [
    {
     "name": "stdout",
     "output_type": "stream",
     "text": [
      "5\n"
     ]
    }
   ],
   "source": [
    "alien=\"green\"\n",
    "points=0\n",
    "if alien == \"green\":\n",
    "    print(points+5)\n",
    "elif alien == \"yellow\":\n",
    "    print(points+10)\n",
    "elif alien == \"red\":\n",
    "    print(points+15)"
   ]
  },
  {
   "cell_type": "markdown",
   "metadata": {},
   "source": [
    "Yellow"
   ]
  },
  {
   "cell_type": "code",
   "execution_count": 9,
   "metadata": {},
   "outputs": [
    {
     "name": "stdout",
     "output_type": "stream",
     "text": [
      "10\n"
     ]
    }
   ],
   "source": [
    "alien=\"yellow\"\n",
    "points=0\n",
    "if alien == \"green\":\n",
    "    print(points+5)\n",
    "elif alien == \"yellow\":\n",
    "    print(points+10)\n",
    "elif alien == \"red\":\n",
    "    print(points+15)"
   ]
  },
  {
   "cell_type": "markdown",
   "metadata": {},
   "source": [
    "Red"
   ]
  },
  {
   "cell_type": "code",
   "execution_count": 5,
   "metadata": {},
   "outputs": [
    {
     "name": "stdout",
     "output_type": "stream",
     "text": [
      "15\n"
     ]
    }
   ],
   "source": [
    "alien=\"red\"\n",
    "points=0\n",
    "if alien == \"green\":\n",
    "    print(points+5)\n",
    "elif alien == \"yellow\":\n",
    "    print(points+10)\n",
    "elif alien == \"red\":\n",
    "    print(points+15)"
   ]
  },
  {
   "cell_type": "markdown",
   "metadata": {},
   "source": [
    "Exercise 4: Stages of Life\n",
    "\n",
    "Write an if-elif-else chain that determines a person’s stage of life. Set a value for the variable age, and then:\n",
    "\n",
    "•If the person is less than 2 years old, print a message that the person is a baby.\n",
    "\n",
    "•If the person is at least 2 years old but less than 4, print a message that the person is a toddler.\n",
    "\n",
    "•If the person is at least 4 years old but less than 13, print a message that the person is a kid.\n",
    "\n",
    "•If the person is at least 13 years old but less than 20, print a message that the person is a teenager.\n",
    "\n",
    "•If the person is at least 20 years old but less than 65, print a message that the person is an adult.\n",
    "\n",
    "•If the person is age 65 or older, print a message that the person is an elder."
   ]
  },
  {
   "cell_type": "code",
   "execution_count": 10,
   "metadata": {},
   "outputs": [
    {
     "name": "stdout",
     "output_type": "stream",
     "text": [
      "This person is an adult\n"
     ]
    }
   ],
   "source": [
    "age=int(input())\n",
    "\n",
    "if age<2:\n",
    "    print(\"This person is a baby.\")\n",
    "elif age>=2 and age<4:\n",
    "    print(\"This person is a toddler.\")\n",
    "elif age>=4 and age<13:\n",
    "    print(\"This person is a kid.\")\n",
    "elif age>=13 and age<20:\n",
    "    print(\"This person is a Teenager\")\n",
    "elif age>=20 and age<65:\n",
    "    print(\"This person is an adult\")\n",
    "else:\n",
    "    print(\"This person is an elder\")"
   ]
  },
  {
   "cell_type": "markdown",
   "metadata": {},
   "source": [
    "Exercise 5: Favorite Fruit\n",
    "\n",
    "Make a list of your favorite fruits, and then write a series of independent if statements that check for certain fruits in your list.\n",
    "\n",
    "•Make a list of your three favorite fruits and call it favorite_fruits.\n",
    "\n",
    "•Write five if statements. Each should check whether a certain kind of fruit is in your list. If the fruit is in your list, the if block \n",
    "\n",
    "should print a statement,such as You really like bananas!"
   ]
  },
  {
   "cell_type": "code",
   "execution_count": 17,
   "metadata": {},
   "outputs": [
    {
     "name": "stdout",
     "output_type": "stream",
     "text": [
      "Your in love with apple!\n",
      "You really like grapes!\n",
      "Mangoes are delicious!\n",
      "Bananas can be pretty disgusting.\n",
      "No vitaman C :(\n"
     ]
    }
   ],
   "source": [
    "favorite_fruits=[\"apple\",\"grapes\",\"mango\"]\n",
    "\n",
    "if \"apple\" in favorite_fruits:\n",
    "    print(\"Your in love with apple!\")\n",
    "\n",
    "if \"grapes\" in favorite_fruits:\n",
    "    print(\"You really like grapes!\")\n",
    "\n",
    "if \"mango\" in favorite_fruits:\n",
    "    print(\"Mangoes are delicious!\")\n",
    "\n",
    "if \"bananas\" in favorite_fruits:\n",
    "    print(\"You like bananas!\")\n",
    "else:\n",
    "    print(\"Bananas can be disgusting.\")\n",
    "\n",
    "if \"oranges\" in favorite_fruits:\n",
    "    print(\"Rex orange! Vitamin C!\")\n",
    "else:\n",
    "    print(\"No vitaman C :(\")\n"
   ]
  },
  {
   "cell_type": "markdown",
   "metadata": {},
   "source": [
    "Exercise 6\n",
    "If body and Outside of if body"
   ]
  },
  {
   "cell_type": "code",
   "execution_count": 2,
   "metadata": {},
   "outputs": [
    {
     "name": "stdout",
     "output_type": "stream",
     "text": [
      "This is outside the if block\n"
     ]
    }
   ],
   "source": [
    "a=20\n",
    "if a>50:\n",
    "  print(\"This is the if body\")\n",
    "print(\"This is outside the if block\")"
   ]
  },
  {
   "cell_type": "markdown",
   "metadata": {},
   "source": [
    "Exercise 7\n",
    "Greater than or less than"
   ]
  },
  {
   "cell_type": "code",
   "execution_count": 7,
   "metadata": {},
   "outputs": [
    {
     "name": "stdout",
     "output_type": "stream",
     "text": [
      "The 2nd number is greater than the 1st number\n"
     ]
    }
   ],
   "source": [
    "num1=20\n",
    "num2=30\n",
    "if num1>num2:\n",
    "  print(\"The 1st number is greater than the 2nd number\")\n",
    "if num2>num1:\n",
    "  print(\"The 2nd number is greater than the 1st number\")"
   ]
  },
  {
   "cell_type": "markdown",
   "metadata": {},
   "source": [
    "Exercise 8\n",
    "Odd or even "
   ]
  },
  {
   "cell_type": "code",
   "execution_count": 6,
   "metadata": {},
   "outputs": [
    {
     "name": "stdout",
     "output_type": "stream",
     "text": [
      "i is an odd number\n"
     ]
    }
   ],
   "source": [
    "i=29\n",
    "if i%2==0:\n",
    "  print(\"i is and even number\")\n",
    "else:\n",
    "  print(\"i is an odd number\")"
   ]
  },
  {
   "cell_type": "markdown",
   "metadata": {},
   "source": [
    "Exercise 9\n",
    "Driving age"
   ]
  },
  {
   "cell_type": "code",
   "execution_count": 8,
   "metadata": {},
   "outputs": [
    {
     "name": "stdout",
     "output_type": "stream",
     "text": [
      "You are allowed to drive\n"
     ]
    }
   ],
   "source": [
    "age=int (input(\"Enter your age:\"))\n",
    "\n",
    "if age>18:\n",
    "  print(\"You are allowed to drive\")\n",
    "else:\n",
    "  print(\"You are not allowed to drive\")"
   ]
  },
  {
   "cell_type": "markdown",
   "metadata": {},
   "source": [
    "Exercise 10\n",
    "Pass or fail subject"
   ]
  },
  {
   "cell_type": "code",
   "execution_count": 10,
   "metadata": {},
   "outputs": [
    {
     "name": "stdout",
     "output_type": "stream",
     "text": [
      "You have passed the subject\n"
     ]
    }
   ],
   "source": [
    "marks=int(input(\"Enter marks:\"))\n",
    "\n",
    "if marks>40:\n",
    "  print(\"You have passed the subject\")\n",
    "else:\n",
    "  print(\"You have failed the subject\")"
   ]
  }
 ],
 "metadata": {
  "kernelspec": {
   "display_name": "Python 3.10.7 64-bit",
   "language": "python",
   "name": "python3"
  },
  "language_info": {
   "codemirror_mode": {
    "name": "ipython",
    "version": 3
   },
   "file_extension": ".py",
   "mimetype": "text/x-python",
   "name": "python",
   "nbconvert_exporter": "python",
   "pygments_lexer": "ipython3",
   "version": "3.10.7"
  },
  "orig_nbformat": 4,
  "vscode": {
   "interpreter": {
    "hash": "78fbcf19f19eae056f26805eee09cadd919941d7a37f34b166c8c6f561ef28d1"
   }
  }
 },
 "nbformat": 4,
 "nbformat_minor": 2
}
