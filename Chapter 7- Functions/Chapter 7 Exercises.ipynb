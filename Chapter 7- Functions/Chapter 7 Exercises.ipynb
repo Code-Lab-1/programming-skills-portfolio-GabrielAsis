{
 "cells": [
  {
   "cell_type": "markdown",
   "metadata": {},
   "source": [
    "Exercise 1:   Message \n",
    "\n",
    "Write a function called display_message() that prints one sentence telling everyone what you are learning about in this chapter. Call the\n",
    "\n",
    "function, and make sure the message displays correctly.\n"
   ]
  },
  {
   "cell_type": "code",
   "execution_count": 2,
   "metadata": {},
   "outputs": [
    {
     "name": "stdout",
     "output_type": "stream",
     "text": [
      "Im learning how to display a sentence with functions.\n"
     ]
    }
   ],
   "source": [
    "def display_message():\n",
    "    print(\"Im learning how to display a sentence with functions.\")\n",
    "\n",
    "display_message()"
   ]
  },
  {
   "cell_type": "markdown",
   "metadata": {},
   "source": [
    "Exercise 2: Favorite Book\n",
    "\n",
    "Write a function called favorite_book() that accepts one parameter, title. The function should print a message, such as One of my\n",
    "\n",
    "favorite books is Alice in Wonderland. Call the function, making sure to include a book title as an argument in the function call."
   ]
  },
  {
   "cell_type": "code",
   "execution_count": 17,
   "metadata": {},
   "outputs": [
    {
     "name": "stdout",
     "output_type": "stream",
     "text": [
      "Diary of the wimpy kidis one of my favorite books\n"
     ]
    }
   ],
   "source": [
    "def favorite_book(title):\n",
    "    print(title+\" is one of my favorite books\")\n",
    "\n",
    "favorite_book(\"Diary of the wimpy kid\")"
   ]
  },
  {
   "cell_type": "markdown",
   "metadata": {},
   "source": [
    "Exercise 3: T-Shirt \n",
    "\n",
    "Write a function called make_shirt() that accepts a size and the text of a message that should be printed on the shirt. The function \n",
    "\n",
    "should print a sentence summarizing the size of the shirt and the message printed on it. Call the function once using positional \n",
    "\n",
    "arguments to make a shirt. Call the function a second time using keyword arguments."
   ]
  },
  {
   "cell_type": "code",
   "execution_count": 12,
   "metadata": {},
   "outputs": [
    {
     "name": "stdout",
     "output_type": "stream",
     "text": [
      "Size of t-shirt:Small\n",
      "The message on the shirt:\"Functions\"\n",
      "\n",
      "Size of t-shirt:Large\n",
      "The message on the shirt:\"Hello World!\"\n"
     ]
    }
   ],
   "source": [
    "def make_shirt(size, message):\n",
    "    print(\"Size of t-shirt:\" + size)\n",
    "    print('The message on the shirt:\"' + message + '\"')\n",
    "\n",
    "make_shirt('Small', 'Functions')\n",
    "print(\"\")\n",
    "make_shirt(message=\"Hello World!\", size='Large')"
   ]
  },
  {
   "cell_type": "markdown",
   "metadata": {},
   "source": [
    "Large Shirts\n",
    "\n",
    "Modify the make_shirt() function so that shirts are large by default with a message that reads I love Python. Make a large shirt and a\n",
    "\n",
    "medium shirt with the default message, and a shirt of any size with a different message.\n"
   ]
  },
  {
   "cell_type": "code",
   "execution_count": 11,
   "metadata": {},
   "outputs": [
    {
     "name": "stdout",
     "output_type": "stream",
     "text": [
      "Size of t-shirt:large\n",
      "The message on the shirt:\"I love Python.\"\n",
      "\n",
      "Size of t-shirt:medium\n",
      "The message on the shirt:\"I love Python.\"\n",
      "\n",
      "Size of t-shirt:large\n",
      "The message on the shirt:\"Bye world!\"\n"
     ]
    }
   ],
   "source": [
    "def make_shirt(size=\"large\",message=\"I love Python.\"):\n",
    "    print(\"Size of t-shirt:\" + size)\n",
    "    print('The message on the shirt:\"' + message + '\"')\n",
    "\n",
    "make_shirt()\n",
    "print(\"\")\n",
    "make_shirt(size=\"medium\")\n",
    "print(\"\")\n",
    "make_shirt(message=\"Bye world!\")"
   ]
  },
  {
   "cell_type": "markdown",
   "metadata": {},
   "source": [
    "Exercise 5: Cities\n",
    "\n",
    "Write a function called describe_city() that accepts the name of a city and its country. The function should print a simple sentence, \n",
    "\n",
    "such as Reykjavik is in Iceland. Give the parameter for the country a default value.\n",
    "\n",
    "Call your function for three different cities, at least one of which is not in the default country."
   ]
  },
  {
   "cell_type": "code",
   "execution_count": 16,
   "metadata": {},
   "outputs": [
    {
     "name": "stdout",
     "output_type": "stream",
     "text": [
      "Manila is in the Philippines\n",
      "Cebu is in the Philippines\n",
      "Sharjah is in the Philippines\n"
     ]
    }
   ],
   "source": [
    "def describe_city(city,country=\"Philippines\"):\n",
    "    print(city+\" is in the \"+country)\n",
    "\n",
    "describe_city(city=\"Manila\")\n",
    "describe_city(city=\"Cebu\")\n",
    "describe_city(city=\"Sharjah\")"
   ]
  },
  {
   "cell_type": "markdown",
   "metadata": {},
   "source": [
    "Exercise 6\n",
    "The city I live in"
   ]
  },
  {
   "cell_type": "code",
   "execution_count": 1,
   "metadata": {},
   "outputs": [
    {
     "name": "stdout",
     "output_type": "stream",
     "text": [
      "I live in Sharjah\n"
     ]
    }
   ],
   "source": [
    "def city():\n",
    "    print(\"I live in Sharjah\")\n",
    "\n",
    "city()"
   ]
  },
  {
   "cell_type": "markdown",
   "metadata": {},
   "source": [
    "Exercise 7\n",
    "Changing defualt home country"
   ]
  },
  {
   "cell_type": "code",
   "execution_count": 7,
   "metadata": {},
   "outputs": [
    {
     "name": "stdout",
     "output_type": "stream",
     "text": [
      "My home country is Philippines\n",
      "My home country is UAE\n"
     ]
    }
   ],
   "source": [
    "def home_coutry(country=\"Philippines\"):\n",
    "    print(\"My home country is \"+country)\n",
    "\n",
    "home_coutry()\n",
    "home_coutry(country=\"UAE\")"
   ]
  },
  {
   "cell_type": "markdown",
   "metadata": {},
   "source": [
    "Exercise 8\n",
    "First names"
   ]
  },
  {
   "cell_type": "code",
   "execution_count": 8,
   "metadata": {},
   "outputs": [
    {
     "name": "stdout",
     "output_type": "stream",
     "text": [
      "My name is Gab\n",
      "My name is David\n",
      "My name is Lucy\n"
     ]
    }
   ],
   "source": [
    "def first_name(fname):\n",
    "  print(\"My name is \"+fname)\n",
    "\n",
    "first_name(\"Gab\")\n",
    "first_name(\"David\")\n",
    "first_name(\"Lucy\")"
   ]
  },
  {
   "cell_type": "markdown",
   "metadata": {},
   "source": [
    "Exercise 9\n",
    "Full name"
   ]
  },
  {
   "cell_type": "code",
   "execution_count": 16,
   "metadata": {},
   "outputs": [
    {
     "name": "stdout",
     "output_type": "stream",
     "text": [
      "Hi i am Gabriel Asis\n"
     ]
    }
   ],
   "source": [
    "def full_name(fname, lname):\n",
    "  print(fname + \" \" + lname)\n",
    "\n",
    "print(\"Hi i am \",end='')\n",
    "full_name(\"Gabriel\", \"Asis\")"
   ]
  },
  {
   "cell_type": "markdown",
   "metadata": {},
   "source": [
    "Exercise 10\n",
    "Student Information"
   ]
  },
  {
   "cell_type": "code",
   "execution_count": 19,
   "metadata": {},
   "outputs": [
    {
     "name": "stdout",
     "output_type": "stream",
     "text": [
      "Full Name: Gabriel Asis\n",
      "Age: 16\n",
      "Course: Creative Computing\n",
      "Year: 1\n",
      "ID number: 121235\n"
     ]
    }
   ],
   "source": [
    "def student_info(name,age,course,year,id):\n",
    "    print(\"Full Name: \"+name)\n",
    "    print(\"Age: \"+age)\n",
    "    print(\"Course: \"+course)\n",
    "    print(\"Year: \"+year)\n",
    "    print(\"ID number: \"+id)\n",
    "\n",
    "student_info(name=\"Gabriel Asis\", age=\"16\", course=\"Creative Computing\", year=\"1\", id=\"121235\")"
   ]
  }
 ],
 "metadata": {
  "kernelspec": {
   "display_name": "Python 3.10.7 64-bit",
   "language": "python",
   "name": "python3"
  },
  "language_info": {
   "codemirror_mode": {
    "name": "ipython",
    "version": 3
   },
   "file_extension": ".py",
   "mimetype": "text/x-python",
   "name": "python",
   "nbconvert_exporter": "python",
   "pygments_lexer": "ipython3",
   "version": "3.10.7"
  },
  "orig_nbformat": 4,
  "vscode": {
   "interpreter": {
    "hash": "78fbcf19f19eae056f26805eee09cadd919941d7a37f34b166c8c6f561ef28d1"
   }
  }
 },
 "nbformat": 4,
 "nbformat_minor": 2
}
