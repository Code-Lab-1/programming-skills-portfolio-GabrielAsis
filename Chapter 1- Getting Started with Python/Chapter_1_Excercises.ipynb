{
  "cells": [
    {
      "cell_type": "markdown",
      "metadata": {
        "id": "YO5SUovgrVOw"
      },
      "source": [
        "Excercise 1\n",
        "\n",
        "Write a Python program to print the following string in a specific format.\n",
        "\n",
        "Twinkle, twinkle, little star, How I wonder what you are! Up above the world so high, Like a diamond in the sky. Twinkle, twinkle, little star, How I wonder what you are"
      ]
    },
    {
      "cell_type": "code",
      "execution_count": null,
      "metadata": {
        "colab": {
          "base_uri": "https://localhost:8080/"
        },
        "id": "rZKDo_RGrRLp",
        "outputId": "9fe8747d-688a-43ba-bd71-af22bcc7c156"
      },
      "outputs": [
        {
          "name": "stdout",
          "output_type": "stream",
          "text": [
            "Twinkle, twinkle, little star, How I wonder what you are! Up above the world so high, Like a diamond in the sky. Twinkle, twinkle, little star, How I wonder what you are\n"
          ]
        }
      ],
      "source": [
        "print(\"Twinkle, twinkle, little star, How I wonder what you are! Up above the world so high, Like a diamond in the sky. Twinkle, twinkle, little star, How I wonder what you are\")"
      ]
    },
    {
      "cell_type": "markdown",
      "metadata": {
        "id": "kUsGSzlUrjpz"
      },
      "source": [
        "Excercise 2\n",
        "\n",
        "Write a Python program to get the Python version you are using."
      ]
    },
    {
      "cell_type": "code",
      "execution_count": null,
      "metadata": {
        "colab": {
          "base_uri": "https://localhost:8080/"
        },
        "id": "La5xR3kbr2BB",
        "outputId": "1e1ee817-abdc-486c-8696-19c3f966b14a"
      },
      "outputs": [
        {
          "name": "stdout",
          "output_type": "stream",
          "text": [
            "Version of my current Python  3.7.14 (default, Sep  8 2022, 00:06:44) \n",
            "[GCC 7.5.0]\n"
          ]
        }
      ],
      "source": [
        "import sys\n",
        "\n",
        "# Prints current Python version\n",
        "print(\"Version of my current Python \", sys.version)"
      ]
    },
    {
      "cell_type": "markdown",
      "metadata": {
        "id": "S_yo7lO9r8xp"
      },
      "source": [
        "Excercise 3\n",
        "\n",
        "Write a Python program to display the current date and time.\n",
        "\n"
      ]
    },
    {
      "cell_type": "code",
      "execution_count": 1,
      "metadata": {
        "colab": {
          "base_uri": "https://localhost:8080/"
        },
        "id": "8sTOgfrF4NCN",
        "outputId": "ab95b794-ab32-4537-f238-df1382d8b8e6"
      },
      "outputs": [
        {
          "name": "stdout",
          "output_type": "stream",
          "text": [
            "Today is 2022-10-02\n"
          ]
        }
      ],
      "source": [
        "from datetime import date\n",
        "\n",
        "date = date.today()\n",
        "print(\"Today is\", date)\n"
      ]
    },
    {
      "cell_type": "markdown",
      "metadata": {
        "id": "y2E_5sfr4cZ5"
      },
      "source": [
        "Excercise 4\n",
        "\n",
        "Write three strings in different variables and print the output as one string.      \n",
        "\n"
      ]
    },
    {
      "cell_type": "code",
      "execution_count": 2,
      "metadata": {
        "colab": {
          "base_uri": "https://localhost:8080/"
        },
        "id": "EQ0aEqpF4jgA",
        "outputId": "0dc83482-3215-4b18-86cb-74c99771f453"
      },
      "outputs": [
        {
          "name": "stdout",
          "output_type": "stream",
          "text": [
            "Gabriel 16 Years old BathSpa University\n"
          ]
        }
      ],
      "source": [
        "name=\"Gabriel\"\n",
        "age=\"16 Years old\"\n",
        "school=\"BathSpa University\"\n",
        "\n",
        "print(name,age,school)"
      ]
    },
    {
      "cell_type": "markdown",
      "metadata": {
        "id": "_l9E1A0k9dWO"
      },
      "source": [
        "Excercise 5\n",
        "\n",
        "Write a Python program which accepts the radius of a circle from the user and compute the area.\n",
        "\n"
      ]
    },
    {
      "cell_type": "code",
      "execution_count": 7,
      "metadata": {
        "colab": {
          "base_uri": "https://localhost:8080/"
        },
        "id": "51ULhVi29kHd",
        "outputId": "59ba8db8-38d1-48e0-dd98-8c1030d30bda"
      },
      "outputs": [
        {
          "name": "stdout",
          "output_type": "stream",
          "text": [
            "5\n",
            "78.5\n"
          ]
        }
      ],
      "source": [
        "radius=(int(input(\"Enter number: \")))\n",
        "area=3.14*radius**2\n",
        "print(area)"
      ]
    },
    {
      "cell_type": "markdown",
      "metadata": {},
      "source": [
        "Exercise 6\n",
        "Addition calculator"
      ]
    },
    {
      "cell_type": "code",
      "execution_count": 2,
      "metadata": {},
      "outputs": [
        {
          "name": "stdout",
          "output_type": "stream",
          "text": [
            "15\n"
          ]
        }
      ],
      "source": [
        "num1=(int(input(\"Enter number: \")))\n",
        "num2=(int(input(\"Enter number: \")))\n",
        "\n",
        "sum=num1+num2\n",
        "\n",
        "print(sum)"
      ]
    },
    {
      "cell_type": "markdown",
      "metadata": {},
      "source": [
        "Exercise 7\n",
        "Decimal or Float"
      ]
    },
    {
      "cell_type": "code",
      "execution_count": 3,
      "metadata": {},
      "outputs": [
        {
          "name": "stdout",
          "output_type": "stream",
          "text": [
            "6.9\n"
          ]
        }
      ],
      "source": [
        "float=float(6.9)\n",
        "\n",
        "print(float)"
      ]
    },
    {
      "cell_type": "markdown",
      "metadata": {},
      "source": [
        "Exercise 8\n",
        "Subtraction calculator"
      ]
    },
    {
      "cell_type": "code",
      "execution_count": 4,
      "metadata": {},
      "outputs": [
        {
          "name": "stdout",
          "output_type": "stream",
          "text": [
            "3\n"
          ]
        }
      ],
      "source": [
        "num1=(int(input(\"Enter number: \")))\n",
        "num2=(int(input(\"Enter number: \")))\n",
        "\n",
        "dif=num1-num2\n",
        "\n",
        "print(dif)"
      ]
    },
    {
      "cell_type": "markdown",
      "metadata": {},
      "source": [
        "Exercise 9\n",
        "Area of a rectangle"
      ]
    },
    {
      "cell_type": "code",
      "execution_count": 5,
      "metadata": {},
      "outputs": [
        {
          "name": "stdout",
          "output_type": "stream",
          "text": [
            "35\n"
          ]
        }
      ],
      "source": [
        "l=(int(input(\"Enter number: \")))\n",
        "w=(int(input(\"Enter number: \")))\n",
        "\n",
        "area=l*w\n",
        "\n",
        "print(area)"
      ]
    },
    {
      "cell_type": "markdown",
      "metadata": {},
      "source": [
        "Exercise 10\n",
        "Division calculator"
      ]
    },
    {
      "cell_type": "code",
      "execution_count": 6,
      "metadata": {},
      "outputs": [
        {
          "name": "stdout",
          "output_type": "stream",
          "text": [
            "2.0\n"
          ]
        }
      ],
      "source": [
        "num1=(int(input(\"Enter number: \")))\n",
        "num2=(int(input(\"Enter number: \")))\n",
        "\n",
        "quot=num1/num2\n",
        "\n",
        "print(quot)"
      ]
    }
  ],
  "metadata": {
    "colab": {
      "collapsed_sections": [],
      "provenance": []
    },
    "kernelspec": {
      "display_name": "Python 3.10.7 64-bit",
      "language": "python",
      "name": "python3"
    },
    "language_info": {
      "codemirror_mode": {
        "name": "ipython",
        "version": 3
      },
      "file_extension": ".py",
      "mimetype": "text/x-python",
      "name": "python",
      "nbconvert_exporter": "python",
      "pygments_lexer": "ipython3",
      "version": "3.10.7"
    },
    "vscode": {
      "interpreter": {
        "hash": "78fbcf19f19eae056f26805eee09cadd919941d7a37f34b166c8c6f561ef28d1"
      }
    }
  },
  "nbformat": 4,
  "nbformat_minor": 0
}
