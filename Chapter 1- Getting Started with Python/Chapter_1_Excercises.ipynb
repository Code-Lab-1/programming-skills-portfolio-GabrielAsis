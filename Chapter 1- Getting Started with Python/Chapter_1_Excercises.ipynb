{
  "nbformat": 4,
  "nbformat_minor": 0,
  "metadata": {
    "colab": {
      "provenance": [],
      "collapsed_sections": []
    },
    "kernelspec": {
      "name": "python3",
      "display_name": "Python 3"
    },
    "language_info": {
      "name": "python"
    }
  },
  "cells": [
    {
      "cell_type": "markdown",
      "source": [
        "Excercise 1\n",
        "\n",
        "Write a Python program to print the following string in a specific format.\n",
        "\n",
        "Twinkle, twinkle, little star, How I wonder what you are! Up above the world so high, Like a diamond in the sky. Twinkle, twinkle, little star, How I wonder what you are"
      ],
      "metadata": {
        "id": "YO5SUovgrVOw"
      }
    },
    {
      "cell_type": "code",
      "execution_count": null,
      "metadata": {
        "colab": {
          "base_uri": "https://localhost:8080/"
        },
        "id": "rZKDo_RGrRLp",
        "outputId": "9fe8747d-688a-43ba-bd71-af22bcc7c156"
      },
      "outputs": [
        {
          "output_type": "stream",
          "name": "stdout",
          "text": [
            "Twinkle, twinkle, little star, How I wonder what you are! Up above the world so high, Like a diamond in the sky. Twinkle, twinkle, little star, How I wonder what you are\n"
          ]
        }
      ],
      "source": [
        "print(\"Twinkle, twinkle, little star, How I wonder what you are! Up above the world so high, Like a diamond in the sky. Twinkle, twinkle, little star, How I wonder what you are\")"
      ]
    },
    {
      "cell_type": "markdown",
      "source": [
        "Excercise 2\n",
        "\n",
        "Write a Python program to get the Python version you are using."
      ],
      "metadata": {
        "id": "kUsGSzlUrjpz"
      }
    },
    {
      "cell_type": "code",
      "source": [
        "import sys\n",
        "\n",
        "# Prints current Python version\n",
        "print(\"Version of my current Python \", sys.version)"
      ],
      "metadata": {
        "colab": {
          "base_uri": "https://localhost:8080/"
        },
        "id": "La5xR3kbr2BB",
        "outputId": "1e1ee817-abdc-486c-8696-19c3f966b14a"
      },
      "execution_count": null,
      "outputs": [
        {
          "output_type": "stream",
          "name": "stdout",
          "text": [
            "Version of my current Python  3.7.14 (default, Sep  8 2022, 00:06:44) \n",
            "[GCC 7.5.0]\n"
          ]
        }
      ]
    },
    {
      "cell_type": "markdown",
      "source": [
        "Excercise 3\n",
        "\n",
        "Write a Python program to display the current date and time.\n",
        "\n"
      ],
      "metadata": {
        "id": "S_yo7lO9r8xp"
      }
    },
    {
      "cell_type": "code",
      "source": [
        "from datetime import date\n",
        "\n",
        "date = date.today()\n",
        "print(\"Today is\", date)\n"
      ],
      "metadata": {
        "colab": {
          "base_uri": "https://localhost:8080/"
        },
        "id": "8sTOgfrF4NCN",
        "outputId": "ab95b794-ab32-4537-f238-df1382d8b8e6"
      },
      "execution_count": 1,
      "outputs": [
        {
          "output_type": "stream",
          "name": "stdout",
          "text": [
            "Today is 2022-10-02\n"
          ]
        }
      ]
    },
    {
      "cell_type": "markdown",
      "source": [
        "Excercise 4\n",
        "\n",
        "Write three strings in different variables and print the output as one string.      \n",
        "\n"
      ],
      "metadata": {
        "id": "y2E_5sfr4cZ5"
      }
    },
    {
      "cell_type": "code",
      "source": [
        "name=\"Gabriel\"\n",
        "age=\"16 Years old\"\n",
        "school=\"BathSpa University\"\n",
        "\n",
        "print(name,age,school)"
      ],
      "metadata": {
        "colab": {
          "base_uri": "https://localhost:8080/"
        },
        "id": "EQ0aEqpF4jgA",
        "outputId": "0dc83482-3215-4b18-86cb-74c99771f453"
      },
      "execution_count": 4,
      "outputs": [
        {
          "output_type": "stream",
          "name": "stdout",
          "text": [
            "Gabriel 16 Years old BathSpa University\n"
          ]
        }
      ]
    },
    {
      "cell_type": "markdown",
      "source": [
        "Excercise 5\n",
        "\n",
        "Write a Python program which accepts the radius of a circle from the user and compute the area.\n",
        "\n"
      ],
      "metadata": {
        "id": "_l9E1A0k9dWO"
      }
    },
    {
      "cell_type": "code",
      "source": [
        "radius=(int(input()))\n",
        "area=3.14*radius**2\n",
        "print(area)"
      ],
      "metadata": {
        "colab": {
          "base_uri": "https://localhost:8080/"
        },
        "id": "51ULhVi29kHd",
        "outputId": "59ba8db8-38d1-48e0-dd98-8c1030d30bda"
      },
      "execution_count": 7,
      "outputs": [
        {
          "output_type": "stream",
          "name": "stdout",
          "text": [
            "5\n",
            "78.5\n"
          ]
        }
      ]
    }
  ]
}