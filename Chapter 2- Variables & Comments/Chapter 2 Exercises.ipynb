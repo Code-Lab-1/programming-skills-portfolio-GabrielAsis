{
 "cells": [
  {
   "cell_type": "markdown",
   "metadata": {},
   "source": [
    "Exercise 1\n",
    "\n",
    "Type out the code below and add the correct data types to complete the variables\n",
    "\n",
    "Assign a message to a variable, and print that message. Then change the value of the variable to a new message, and print the new message."
   ]
  },
  {
   "cell_type": "code",
   "execution_count": 2,
   "metadata": {},
   "outputs": [
    {
     "name": "stdout",
     "output_type": "stream",
     "text": [
      "Hi\n",
      "Hello\n"
     ]
    }
   ],
   "source": [
    "a=\"Hi\"\n",
    "print(a)\n",
    "\n",
    "a=\"Hello\"\n",
    "print(a)"
   ]
  },
  {
   "cell_type": "markdown",
   "metadata": {},
   "source": [
    "Exercise 2\n",
    "\n",
    "Find a quote from a famous person you admire. Print the quote and the name of its author.\n",
    "\n",
    "Your output should look something like the following, including the quotation marks:\n",
    "\n",
    "Albert Einstein once said, “A person who never made a mistake never tried anything new."
   ]
  },
  {
   "cell_type": "code",
   "execution_count": 1,
   "metadata": {},
   "outputs": [
    {
     "name": "stdout",
     "output_type": "stream",
     "text": [
      "Uncle Ben once said,\"With great power comes great responsiblity.\"\n"
     ]
    }
   ],
   "source": [
    "print(\"Uncle Ben once said,\\\"With great power comes great responsiblity.\\\"\")"
   ]
  },
  {
   "cell_type": "markdown",
   "metadata": {},
   "source": [
    "Exercise 3: Stripping Names\n",
    "\n",
    "Tidy up the code to make it easier to understand\n",
    "\n",
    "Use a variable to represent a person’s name, and include some whitespace characters at the beginning and end of the name. Make sure you use each character combination, “\\t” and “\\n”, at least once.\n",
    "\n",
    "Print the name once, so the whitespace around the name is displayed. \n",
    "\n",
    "Then print the name using each of the three stripping functions, lstrip(), rstrip(), and strip()."
   ]
  },
  {
   "cell_type": "code",
   "execution_count": 20,
   "metadata": {},
   "outputs": [
    {
     "name": "stdout",
     "output_type": "stream",
     "text": [
      "\n",
      "\tGab\n",
      "\n",
      "ab\n",
      "Ga\n",
      "Ga\n"
     ]
    }
   ],
   "source": [
    "name=\"Gab\"\n",
    "print(\"\\n\"\"\\t\"+name+\"\\n\")\n",
    "\n",
    "print(name.lstrip(\"G\"))\n",
    "print(name.rstrip(\"b\"))\n",
    "print(name.strip(\"b\"))"
   ]
  },
  {
   "cell_type": "markdown",
   "metadata": {},
   "source": [
    "Exercise 4: Favorite Number\n",
    "Use a variable to represent your favorite number. Then,using that variable, create a message that reveals your favorite number. Print\n",
    "that message."
   ]
  },
  {
   "cell_type": "code",
   "execution_count": 8,
   "metadata": {},
   "outputs": [
    {
     "name": "stdout",
     "output_type": "stream",
     "text": [
      "This is my favorite number: 27\n",
      "27\n"
     ]
    }
   ],
   "source": [
    "fav_num=27\n",
    "print(\"This is my favorite number:\",fav_num)\n"
   ]
  },
  {
   "cell_type": "markdown",
   "metadata": {},
   "source": [
    "Exercise 5: USB Shopper\n",
    "\n",
    "A girl heads to a computer shop to buy some USB sticks. She loves USB sticks and wants as many as she can get for £50. They are £6 each.\n",
    "\n",
    "Write a programme that calculates how many USB sticks she can buy and how many pounds she will have left.\n",
    "\n",
    "You will to use the arithmetic operators to complete this exercise."
   ]
  },
  {
   "cell_type": "code",
   "execution_count": 9,
   "metadata": {},
   "outputs": [
    {
     "name": "stdout",
     "output_type": "stream",
     "text": [
      "Ammount of money: 50\n",
      "Price of each USB stick: 6\n",
      "Ammount of USB sticks that she can buy: 8.333333333333334\n"
     ]
    }
   ],
   "source": [
    "money=50\n",
    "usb_price=6\n",
    "\n",
    "print(\"Ammount of money:\",money)\n",
    "\n",
    "print(\"Price of each USB stick:\",usb_price)\n",
    "\n",
    "ammout_usb=money/usb_price\n",
    "\n",
    "print(\"Ammount of USB sticks that she can buy:\",ammout_usb)\n"
   ]
  },
  {
   "cell_type": "markdown",
   "metadata": {},
   "source": [
    "Exercise 6\n",
    "Comments\n"
   ]
  },
  {
   "cell_type": "code",
   "execution_count": null,
   "metadata": {},
   "outputs": [],
   "source": [
    "#this will not bein shown in the output\n",
    "print(\"You will not be able to see the comment above in the output\")"
   ]
  },
  {
   "cell_type": "markdown",
   "metadata": {},
   "source": [
    "Exercise 7\n",
    "Doing math with variables"
   ]
  },
  {
   "cell_type": "code",
   "execution_count": 1,
   "metadata": {},
   "outputs": [
    {
     "name": "stdout",
     "output_type": "stream",
     "text": [
      "8\n",
      "15\n"
     ]
    }
   ],
   "source": [
    "num1=3\n",
    "num2=5\n",
    "\n",
    "print(num1+num2)\n",
    "print(num1*num2)"
   ]
  },
  {
   "cell_type": "markdown",
   "metadata": {},
   "source": [
    "Exercise 8\n",
    "Printing 2 string variables in one line"
   ]
  },
  {
   "cell_type": "code",
   "execution_count": 2,
   "metadata": {},
   "outputs": [
    {
     "name": "stdout",
     "output_type": "stream",
     "text": [
      "Hello world! Bye world!\n"
     ]
    }
   ],
   "source": [
    "str1=\"Hello world!\"\n",
    "str2=\"Bye world!\"\n",
    "\n",
    "print(str1,str2)"
   ]
  },
  {
   "cell_type": "markdown",
   "metadata": {},
   "source": [
    "Exercise 9\n",
    "Printing Integers and String"
   ]
  },
  {
   "cell_type": "code",
   "execution_count": 5,
   "metadata": {},
   "outputs": [
    {
     "name": "stdout",
     "output_type": "stream",
     "text": [
      "Number: 123\n"
     ]
    }
   ],
   "source": [
    "int=123\n",
    "str=\"Number:\"\n",
    "\n",
    "print(str,int)"
   ]
  },
  {
   "cell_type": "markdown",
   "metadata": {},
   "source": [
    "Exercise 10\n",
    "Multiple strings"
   ]
  },
  {
   "cell_type": "code",
   "execution_count": 7,
   "metadata": {},
   "outputs": [
    {
     "name": "stdout",
     "output_type": "stream",
     "text": [
      "Hello! Bye! World. Universe.\n",
      "Hello! Bye! World. THE UNIVERSE SINGS TO ME!\n"
     ]
    }
   ],
   "source": [
    "str1=\"Hello!\"\n",
    "str2=\"Bye!\"\n",
    "str3=\"World.\"\n",
    "str4=\"Universe.\"\n",
    "\n",
    "print(str1,str2,str3,str4)\n",
    "\n",
    "str4=\"THE UNIVERSE SINGS TO ME!\"\n",
    "\n",
    "print(str1,str2,str3,str4)\n"
   ]
  }
 ],
 "metadata": {
  "kernelspec": {
   "display_name": "Python 3.10.7 64-bit",
   "language": "python",
   "name": "python3"
  },
  "language_info": {
   "codemirror_mode": {
    "name": "ipython",
    "version": 3
   },
   "file_extension": ".py",
   "mimetype": "text/x-python",
   "name": "python",
   "nbconvert_exporter": "python",
   "pygments_lexer": "ipython3",
   "version": "3.10.7"
  },
  "orig_nbformat": 4,
  "vscode": {
   "interpreter": {
    "hash": "78fbcf19f19eae056f26805eee09cadd919941d7a37f34b166c8c6f561ef28d1"
   }
  }
 },
 "nbformat": 4,
 "nbformat_minor": 2
}
