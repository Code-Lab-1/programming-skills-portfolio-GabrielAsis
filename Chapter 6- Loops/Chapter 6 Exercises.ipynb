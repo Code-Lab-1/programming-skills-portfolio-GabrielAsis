{
 "cells": [
  {
   "cell_type": "markdown",
   "metadata": {},
   "source": [
    "Exercise 1: Pizza Toppings\n",
    "\n",
    "Write a loop that prompts the user to enter a series of pizza toppings until they enter a 'quit' value. As they enter each topping,\n",
    "\n",
    "print a message saying you’ll add that topping to their pizza."
   ]
  },
  {
   "cell_type": "code",
   "execution_count": 7,
   "metadata": {},
   "outputs": [
    {
     "name": "stdout",
     "output_type": "stream",
     "text": [
      "Adding peporoni to your pizza. Would you like to add more?\n",
      "Adding olvies to your pizza. Would you like to add more?\n"
     ]
    }
   ],
   "source": [
    "toppings= \"What topping would you like on your pizza?\"\n",
    "toppings += \" Enter done when to finsih your pizza.\"\n",
    "\n",
    "while True:\n",
    "    topping = input(toppings)\n",
    "    if topping != 'done':\n",
    "        print(\"Adding \" + topping + \" to your pizza. Would you like to add more?\")\n",
    "    else:\n",
    "        break"
   ]
  },
  {
   "cell_type": "markdown",
   "metadata": {},
   "source": [
    "Exercise 2: Movie Tickets: \n",
    "\n",
    "A movie theater charges different ticket prices depending on a person’s age. If a person is under the age of 3, the ticket is free; if\n",
    "\n",
    "they are between 3 and 12, the ticket is $10; and if they are over age 12, the ticket is $15. Write a loop in which you ask users their \n",
    "\n",
    "age, and then tell them the cost of their movie ticket"
   ]
  },
  {
   "cell_type": "code",
   "execution_count": 14,
   "metadata": {},
   "outputs": [
    {
     "name": "stdout",
     "output_type": "stream",
     "text": [
      "  Ticket: $10.\n",
      "  Ticket: Free\n",
      "  Ticket: $10.\n",
      "  Ticket: $15.\n",
      "  Ticket: $15.\n"
     ]
    }
   ],
   "source": [
    "age_user = \"Enter age:\"\n",
    "age_user += \"\\nEnter done when you are finished. \"\n",
    "\n",
    "while True:\n",
    "    age = input(age_user)\n",
    "    if age == 'done':\n",
    "        break\n",
    "    age = int(age)\n",
    "\n",
    "    if age < 3:\n",
    "        print(\"  Ticket: Free\")\n",
    "    elif age >= 3 and age <= 12:\n",
    "        print(\"  Ticket: $10.\")\n",
    "    else:\n",
    "        print(\"  Ticket: $15.\")"
   ]
  },
  {
   "cell_type": "markdown",
   "metadata": {},
   "source": [
    "Exercise 3: Infinity\n",
    "\n",
    "Write a loop that never ends, and run it. (To end the loop, press ctrl-C or close the window displaying the output.)"
   ]
  },
  {
   "cell_type": "code",
   "execution_count": null,
   "metadata": {},
   "outputs": [],
   "source": [
    "num=1\n",
    "\n",
    "while num==1:\n",
    "    print(\"To infinity!\")"
   ]
  },
  {
   "cell_type": "markdown",
   "metadata": {},
   "source": [
    "Exercise 4: Deli\n",
    "\n",
    "Make a list called sandwich_orders and fill it with the names of various sandwiches. Then make an empty list called finished_sandwiches.\n",
    "\n",
    "Loop through the list of sandwich orders and print a message for each order, such as I made your tuna sandwich. As each sandwich is made, \n",
    "\n",
    "move it to the list of finished sandwiches. After all the sandwiches have been made, print a message listing each sandwich that was made."
   ]
  },
  {
   "cell_type": "code",
   "execution_count": 26,
   "metadata": {},
   "outputs": [
    {
     "name": "stdout",
     "output_type": "stream",
     "text": [
      "Making: ham sandwich\n",
      "Making: pastrami sandwich\n",
      "Making: chicken sandwich\n",
      "Making: nutella sandwich\n",
      "\n",
      "Finished sandwich: ham sandwich\n",
      "Finished sandwich: pastrami sandwich\n",
      "Finished sandwich: chicken sandwich\n",
      "Finished sandwich: nutella sandwich\n"
     ]
    }
   ],
   "source": [
    "sandwich_orders = [\"ham sandwich\", \"pastrami sandwich\", \"chicken sandwich\", \"nutella sandwich\"]\n",
    "finished_sandwich = []\n",
    "\n",
    "for x in sandwich_orders:\n",
    "    print(\"Making:\",x)\n",
    "    finished_sandwich.append(x)\n",
    "\n",
    "print(\"\")\n",
    "\n",
    "for y in finished_sandwich:\n",
    "    print (\"Finished sandwich:\",y)\n"
   ]
  },
  {
   "cell_type": "markdown",
   "metadata": {},
   "source": [
    "Exercise 5: No Pastrami \n",
    "Using the list sandwich_orders from Exercise 7-8, make sure the sandwich 'pastrami' appears in the list at least three times. Add code\n",
    "\n",
    "near the beginning of your program to print a message saying the deli has run out of pastrami, and then use a while loop to remove all \n",
    "\n",
    "occurrences of 'pastrami' from sandwich_orders. Make sure no pastrami sandwiches end up in finished_sandwiches."
   ]
  },
  {
   "cell_type": "code",
   "execution_count": 38,
   "metadata": {},
   "outputs": [
    {
     "name": "stdout",
     "output_type": "stream",
     "text": [
      "No more pastrami sandwich for today. :(\n",
      "\n",
      "Making: ham sandwich\n",
      "Making: chicken sandwich\n",
      "Making: nutella sandwich\n",
      "\n",
      "Finished sandwich: ham sandwich\n",
      "Finished sandwich: chicken sandwich\n",
      "Finished sandwich: nutella sandwich\n"
     ]
    }
   ],
   "source": [
    "sandwich_orders = [\"ham sandwich\", \"pastrami sandwich\", \"chicken sandwich\", \"nutella sandwich\"]\n",
    "finished_sandwich = []\n",
    "\n",
    "while 'pastrami sandwich' in sandwich_orders:\n",
    "    sandwich_orders.remove(\"pastrami sandwich\")\n",
    "\n",
    "print(\"No more pastrami sandwich for today. :(\")\n",
    "\n",
    "\n",
    "print(\"\")\n",
    "\n",
    "for x in sandwich_orders:\n",
    "    print(\"Making:\",x)\n",
    "    finished_sandwich.append(x)\n",
    "\n",
    "print(\"\")\n",
    "\n",
    "for y in finished_sandwich:\n",
    "    print (\"Finished sandwich:\",y)\n"
   ]
  },
  {
   "cell_type": "markdown",
   "metadata": {},
   "source": [
    "Exercise 6\n",
    "Printing operating systems using break"
   ]
  },
  {
   "cell_type": "code",
   "execution_count": 5,
   "metadata": {},
   "outputs": [
    {
     "name": "stdout",
     "output_type": "stream",
     "text": [
      "windows\n",
      "mac os\n"
     ]
    }
   ],
   "source": [
    "os = [\"windows\", \"mac os\", \"linux\"]\n",
    "for x in os:\n",
    "  print(x)\n",
    "  if x == \"mac os\":\n",
    "    break"
   ]
  },
  {
   "cell_type": "markdown",
   "metadata": {},
   "source": [
    "Exercise 7\n",
    "Printing operating systems using continue"
   ]
  },
  {
   "cell_type": "code",
   "execution_count": 7,
   "metadata": {},
   "outputs": [
    {
     "name": "stdout",
     "output_type": "stream",
     "text": [
      "windows\n",
      "linux\n"
     ]
    }
   ],
   "source": [
    "os = [\"windows\", \"mac os\", \"linux\"]\n",
    "for x in os:\n",
    "  if x == \"mac os\":\n",
    "    continue\n",
    "  print(x)"
   ]
  },
  {
   "cell_type": "markdown",
   "metadata": {},
   "source": [
    "Exercise 8\n",
    "Printing 1 to 10 with for loops and range"
   ]
  },
  {
   "cell_type": "code",
   "execution_count": 11,
   "metadata": {},
   "outputs": [
    {
     "name": "stdout",
     "output_type": "stream",
     "text": [
      "1\n",
      "2\n",
      "3\n",
      "4\n",
      "5\n",
      "6\n",
      "7\n",
      "8\n",
      "9\n",
      "10\n"
     ]
    }
   ],
   "source": [
    "for x in range(1, 11):\n",
    "  print(x) \n"
   ]
  },
  {
   "cell_type": "markdown",
   "metadata": {},
   "source": [
    "Exercise 9\n",
    "Printing 1 to 10 with while loop"
   ]
  },
  {
   "cell_type": "code",
   "execution_count": 12,
   "metadata": {},
   "outputs": [
    {
     "name": "stdout",
     "output_type": "stream",
     "text": [
      "1\n",
      "2\n",
      "3\n",
      "4\n",
      "5\n",
      "6\n",
      "7\n",
      "8\n",
      "9\n",
      "10\n"
     ]
    }
   ],
   "source": [
    "i = 1\n",
    "while i < 11:\n",
    "  print(i)\n",
    "  i += 1"
   ]
  },
  {
   "cell_type": "markdown",
   "metadata": {},
   "source": [
    "Exercise 10\n",
    "Printing even number"
   ]
  },
  {
   "cell_type": "code",
   "execution_count": 14,
   "metadata": {},
   "outputs": [
    {
     "name": "stdout",
     "output_type": "stream",
     "text": [
      "0\n",
      "2\n",
      "4\n",
      "6\n",
      "8\n",
      "10\n",
      "12\n",
      "14\n",
      "16\n",
      "18\n",
      "20\n"
     ]
    }
   ],
   "source": [
    "i = 0\n",
    "while i < 21:\n",
    "  print(i)\n",
    "  i += 2"
   ]
  }
 ],
 "metadata": {
  "kernelspec": {
   "display_name": "Python 3.10.7 64-bit",
   "language": "python",
   "name": "python3"
  },
  "language_info": {
   "codemirror_mode": {
    "name": "ipython",
    "version": 3
   },
   "file_extension": ".py",
   "mimetype": "text/x-python",
   "name": "python",
   "nbconvert_exporter": "python",
   "pygments_lexer": "ipython3",
   "version": "3.10.7"
  },
  "orig_nbformat": 4,
  "vscode": {
   "interpreter": {
    "hash": "78fbcf19f19eae056f26805eee09cadd919941d7a37f34b166c8c6f561ef28d1"
   }
  }
 },
 "nbformat": 4,
 "nbformat_minor": 2
}
