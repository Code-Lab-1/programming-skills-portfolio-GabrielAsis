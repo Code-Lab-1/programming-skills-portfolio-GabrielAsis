{
 "cells": [
  {
   "cell_type": "markdown",
   "metadata": {},
   "source": [
    "Exercise 1: Person\n",
    "\n",
    "Use a dictionary to store information about a person you know.Store their first name, last name, age, and the city in which they live. You\n",
    "\n",
    "should have keys such as first_name, last_name, age, and city. Print each piece of information stored in your dictionary.\n"
   ]
  },
  {
   "cell_type": "code",
   "execution_count": 3,
   "metadata": {},
   "outputs": [
    {
     "name": "stdout",
     "output_type": "stream",
     "text": [
      "Gabriel\n",
      "Asis\n",
      "16\n",
      "Sharjah\n"
     ]
    }
   ],
   "source": [
    "information = {\n",
    "    \"First Name\":\"Gabriel\",\n",
    "    \"Last Name\": \"Asis\",\n",
    "    \"Age\":\"16\",\n",
    "    \"City\":\"Sharjah\"\n",
    "}\n",
    "\n",
    "print(information[\"First Name\"])\n",
    "print(information[\"Last Name\"])\n",
    "print(information[\"Age\"])\n",
    "print(information[\"City\"])"
   ]
  },
  {
   "cell_type": "markdown",
   "metadata": {},
   "source": [
    "Exercise 2: Glossary\n",
    "\n",
    "A Python dictionary can be used to model an actual dictionary. However, to avoid confusion, let’s call it a glossary.\n",
    "\n",
    "* Think of five programming words you’ve learned about in the previous chapters. Use these words as the keys in your glossary, and store \n",
    "\n",
    "their meanings as values.\n",
    "\n",
    "* Print each word and its meaning as neatly formatted output. You might print the word followed by a colon and then its meaning, or print \n",
    "\n",
    "the word on one line and then print its meaning indented on a second line. Use the newline caracter (\\n) to insert a blank line between \n",
    "\n",
    "each word-meaning pair in your output."
   ]
  },
  {
   "cell_type": "code",
   "execution_count": 6,
   "metadata": {},
   "outputs": [
    {
     "name": "stdout",
     "output_type": "stream",
     "text": [
      "Functions: \n",
      " A function is a block of code that can be referenced by name to run the code it contains. \n",
      "Lists: \n",
      " a data structure that is a mutable, or changeable, ordered sequence of elements.\n",
      "If statements: \n",
      " An if statement runs a block of code based on whether or not a condition is true.\n",
      "Loops: \n",
      " Loops check a condition and then run a code block. The loop will continue to check and run until a specified condition is reached.\n",
      "Variable: \n",
      " A variable is a container that holds a single number, word, or other information that you can use throughout a program.\n"
     ]
    }
   ],
   "source": [
    "program_words = {\n",
    "    \"Functions\":\"A function is a block of code that can be referenced by name to run the code it contains. \",\n",
    "    \"Lists\":\"a data structure that is a mutable, or changeable, ordered sequence of elements.\",\n",
    "    \"If statements\":\"An if statement runs a block of code based on whether or not a condition is true.\",\n",
    "    \"Loops\":\"Loops check a condition and then run a code block. The loop will continue to check and run until a specified condition is reached.\",\n",
    "    \"Variable\":\"A variable is a container that holds a single number, word, or other information that you can use throughout a program.\",\n",
    "\n",
    "}\n",
    "\n",
    "print(\"Functions: \\n\",program_words[\"Functions\"])\n",
    "print(\"Lists: \\n\",program_words[\"Lists\"])\n",
    "print(\"If statements: \\n\",program_words[\"If statements\"])\n",
    "print(\"Loops: \\n\",program_words[\"Loops\"])\n",
    "print(\"Variable: \\n\",program_words[\"Variable\"])\n",
    "\n"
   ]
  },
  {
   "cell_type": "markdown",
   "metadata": {},
   "source": [
    "Exercise 3: Glossary 2 \n",
    "Now that you know how to loop through a dictionary, clean up the code from Exercise 6-3 (page 99) by replacing your series of print()\n",
    "\n",
    "calls with a loop that runs through the dictionary’s keys and values. When you’re sure that your loop works, add five more Python terms \n",
    "\n",
    "to your glossary.When you run your program again, these new words and meanings should automatically be included in the output."
   ]
  },
  {
   "cell_type": "code",
   "execution_count": 12,
   "metadata": {},
   "outputs": [
    {
     "name": "stdout",
     "output_type": "stream",
     "text": [
      "Functions\n",
      " A function is a block of code that can be referenced by name to run the code it contains. \n",
      "Lists\n",
      " a data structure that is a mutable, or changeable, ordered sequence of elements.\n",
      "If statements\n",
      " An if statement runs a block of code based on whether or not a condition is true.\n",
      "Loops\n",
      " Loops check a condition and then run a code block. The loop will continue to check and run until a specified condition is reached.\n",
      "Variable\n",
      " A variable is a container that holds a single number, word, or other information that you can use throughout a program.\n",
      "Strings\n",
      " Strings in python are surrounded by either single quotation marks, or double quotation marks.\n",
      "Comments\n",
      " Comments can be used to explain Python code.\n",
      "Operators\n",
      " Operators are used to perform operations on variables and values.\n",
      "Booleans\n",
      " It's used to represent the truth value of an expression.\n",
      "Tuples\n",
      " Tuples are used to store multiple items in a single variable.\n"
     ]
    }
   ],
   "source": [
    "for x in program_words:\n",
    "  print(x+\"\\n\",program_words[x])\n",
    "\n",
    "program_words[\"Strings\"]=\"Strings in python are surrounded by either single quotation marks, or double quotation marks.\"\n",
    "program_words[\"Comments\"]=\"Comments can be used to explain Python code.\"\n",
    "program_words[\"Operators\"]=\"Operators are used to perform operations on variables and values.\"\n",
    "program_words[\"Booleans\"]=\"It's used to represent the truth value of an expression.\"\n",
    "program_words[\"Tuples\"]=\"Tuples are used to store multiple items in a single variable.\"\n"
   ]
  },
  {
   "cell_type": "markdown",
   "metadata": {},
   "source": [
    "Exercise 4: Rivers\n",
    "\n",
    "Make a dictionary containing three major rivers and the country each river runs through. One key-value pair might be 'nile': 'egypt'.\n",
    "\n",
    "* Use a loop to print a sentence about each river, such as The Nile runs through Egypt.\n",
    "\n",
    "* Use a loop to print the name of each river included in the dictionary.\n",
    "\n",
    "* Use a loop to print the name of each country included in the dictionary."
   ]
  },
  {
   "cell_type": "code",
   "execution_count": 16,
   "metadata": {},
   "outputs": [
    {
     "name": "stdout",
     "output_type": "stream",
     "text": [
      "The Amazon river runs through Columbia\n",
      "The Missipi river runs through USA\n",
      "The Nile runs through Egypt\n",
      "Amazon river\n",
      "Missipi river\n",
      "Nile\n",
      "Columbia\n",
      "USA\n",
      "Egypt\n"
     ]
    }
   ],
   "source": [
    "rivers = {\n",
    "    \"Amazon river\":\"Columbia\",\n",
    "    \"Missipi river\":\"USA\",\n",
    "    \"Nile\":\"Egypt\"\n",
    "}\n",
    "\n",
    "for x in rivers:\n",
    "  print(\"The\",x+\" runs through\",rivers[x])\n",
    "\n",
    "for x in rivers:\n",
    "    print(x)\n",
    "\n",
    "for x in rivers:\n",
    "  print(rivers[x])"
   ]
  },
  {
   "cell_type": "markdown",
   "metadata": {},
   "source": [
    "Exercise 5: Pets \n",
    "Make several dictionaries, where each dictionary represents a different pet. In each dictionary, include the kind of animal and the\n",
    "\n",
    "owner’s name. Store these dictionaries in a list called pets. Next, loop through your list and as you do, print everything you know about \n",
    "\n",
    "each pet"
   ]
  },
  {
   "cell_type": "code",
   "execution_count": 21,
   "metadata": {},
   "outputs": [
    {
     "name": "stdout",
     "output_type": "stream",
     "text": [
      "{'Dog': 'David'}\n",
      "{'Fish': 'Marlin'}\n",
      "{'Cat': 'Glenda'}\n",
      "Max is a very loving and caring dog and loves treats.\n",
      "Nemo always goes missing even though his in a fish tank.\n",
      "Cooky scratechs the everything and everyone.\n"
     ]
    }
   ],
   "source": [
    "max_dog = {\n",
    "    \"Dog\":\"David\"\n",
    "}   \n",
    "\n",
    "nemo_clownfish = {\n",
    "    \"Fish\":\"Marlin\"\n",
    "}\n",
    "\n",
    "cooky_cat = {\n",
    "    \"Cat\":\"Glenda\"\n",
    "}\n",
    "\n",
    "\n",
    "\n",
    "pets = [max_dog,nemo_clownfish,cooky_cat]\n",
    "\n",
    "for x in pets:\n",
    "    print(x)\n",
    "\n",
    "print(\"Max is a very loving and caring dog and loves treats.\")\n",
    "print(\"Nemo always goes missing even though his in a fish tank.\")\n",
    "print(\"Cooky scratechs the everything and everyone.\")"
   ]
  },
  {
   "cell_type": "markdown",
   "metadata": {},
   "source": [
    "Exercise 6\n",
    "Student information"
   ]
  },
  {
   "cell_type": "code",
   "execution_count": 2,
   "metadata": {},
   "outputs": [
    {
     "name": "stdout",
     "output_type": "stream",
     "text": [
      "{'name': 'Gabirel', 'Age': '16', 'Class': 'Year 1', 'Gender': 'Male', 'Location': 'UAE'}\n",
      "Gabirel\n"
     ]
    }
   ],
   "source": [
    "student={\"name\":\"Gabirel\",\"Age\":\"16\",\"Class\":\"Year 1\", \"Gender\":\"Male\",\"Location\":\"UAE\",}\n",
    "\n",
    "print(student)\n",
    "print(student[\"name\"])"
   ]
  },
  {
   "cell_type": "markdown",
   "metadata": {},
   "source": [
    "Exercise 7\n",
    "Printing keys of dictionary"
   ]
  },
  {
   "cell_type": "code",
   "execution_count": 3,
   "metadata": {},
   "outputs": [
    {
     "name": "stdout",
     "output_type": "stream",
     "text": [
      "dict_keys(['name', 'Age', 'Class', 'Gender', 'Location'])\n"
     ]
    }
   ],
   "source": [
    "print(student.keys())"
   ]
  },
  {
   "cell_type": "markdown",
   "metadata": {},
   "source": [
    "Exercise 8\n",
    "Printing values of dictionary"
   ]
  },
  {
   "cell_type": "code",
   "execution_count": 4,
   "metadata": {},
   "outputs": [
    {
     "name": "stdout",
     "output_type": "stream",
     "text": [
      "dict_values(['Gabirel', '16', 'Year 1', 'Male', 'UAE'])\n"
     ]
    }
   ],
   "source": [
    "print(student.values())"
   ]
  },
  {
   "cell_type": "markdown",
   "metadata": {},
   "source": [
    "Exercise 9\n",
    "Changing value"
   ]
  },
  {
   "cell_type": "code",
   "execution_count": 5,
   "metadata": {},
   "outputs": [
    {
     "name": "stdout",
     "output_type": "stream",
     "text": [
      "69\n"
     ]
    }
   ],
   "source": [
    "student[\"Age\"]=69\n",
    "print(student[\"Age\"])"
   ]
  },
  {
   "cell_type": "markdown",
   "metadata": {},
   "source": [
    "Exercise 10\n",
    "Adding elements to dictionary"
   ]
  },
  {
   "cell_type": "code",
   "execution_count": 6,
   "metadata": {},
   "outputs": [
    {
     "name": "stdout",
     "output_type": "stream",
     "text": [
      "{'name': 'Gabirel', 'Age': 69, 'Class': 'Year 1', 'Gender': 'Male', 'Location': 'UAE', 'English': 'A+'}\n"
     ]
    }
   ],
   "source": [
    "student.update({\"English\":\"A+\"})\n",
    "print(student)"
   ]
  }
 ],
 "metadata": {
  "kernelspec": {
   "display_name": "Python 3.10.7 64-bit",
   "language": "python",
   "name": "python3"
  },
  "language_info": {
   "codemirror_mode": {
    "name": "ipython",
    "version": 3
   },
   "file_extension": ".py",
   "mimetype": "text/x-python",
   "name": "python",
   "nbconvert_exporter": "python",
   "pygments_lexer": "ipython3",
   "version": "3.10.7"
  },
  "orig_nbformat": 4,
  "vscode": {
   "interpreter": {
    "hash": "78fbcf19f19eae056f26805eee09cadd919941d7a37f34b166c8c6f561ef28d1"
   }
  }
 },
 "nbformat": 4,
 "nbformat_minor": 2
}
