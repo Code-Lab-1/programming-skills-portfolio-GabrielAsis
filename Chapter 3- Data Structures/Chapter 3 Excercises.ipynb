{
 "cells": [
  {
   "cell_type": "markdown",
   "metadata": {},
   "source": [
    "Exercise 1: Names\n",
    "\n",
    "Store the names of a few of your friends in a list called names. Print each person’s name by accessing each element in the list, one at a\n",
    "\n",
    " time."
   ]
  },
  {
   "cell_type": "code",
   "execution_count": 7,
   "metadata": {},
   "outputs": [
    {
     "name": "stdout",
     "output_type": "stream",
     "text": [
      "Adam\n",
      "John Paul\n",
      "May\n"
     ]
    }
   ],
   "source": [
    "friends_list=[\"Adam\",\"John Paul\",\"May\"]\n",
    "print(friends_list[0])\n",
    "print(friends_list[1])\n",
    "print(friends_list[2])"
   ]
  },
  {
   "cell_type": "markdown",
   "metadata": {},
   "source": [
    "Exercise 2: Greetings\n",
    "\n",
    "Start with the list you used in Exercise 1, but instead of just\n",
    "\n",
    "printing each person’s name, print a message to them. The text of each message should be the same, but each message should be \n",
    "\n",
    "personalized with the person’s name."
   ]
  },
  {
   "cell_type": "code",
   "execution_count": 12,
   "metadata": {},
   "outputs": [
    {
     "name": "stdout",
     "output_type": "stream",
     "text": [
      "How are you Adam ?\n",
      "How are you John Paul ?\n",
      "How are you May ?\n"
     ]
    }
   ],
   "source": [
    "print(\"How are you\",friends_list[0],\"?\")\n",
    "print(\"How are you\",friends_list[1],\"?\")\n",
    "print(\"How are you\",friends_list[2],\"?\")"
   ]
  },
  {
   "cell_type": "markdown",
   "metadata": {},
   "source": [
    "Exercise 3: Your Own List\n",
    "\n",
    "Think of your favorite mode of transportation, such as a motorcycle or a car, and make a list that stores several examples. Use your list\n",
    "\n",
    "to print a series of statements about these items, such as “I would like to own a Honda motorcycle.”"
   ]
  },
  {
   "cell_type": "code",
   "execution_count": 18,
   "metadata": {},
   "outputs": [
    {
     "name": "stdout",
     "output_type": "stream",
     "text": [
      "I miss riding on Jeeps in the Philippines.\n",
      "I rarely go on Trains .\n",
      "Busses are never on time.\n",
      "Electric Cars are amazing!\n"
     ]
    }
   ],
   "source": [
    "transpo_list=[\"Busses\",\"Trains\",\"Cars\",\"Jeeps\"]\n",
    "print(\"I miss riding on\",transpo_list[3],\"in the Philippines.\")\n",
    "print(\"I rarely go on\",transpo_list[1],\".\")\n",
    "print(transpo_list[0],\"are never on time.\")\n",
    "print(\"Electric\",transpo_list[2],\"are amazing!\")"
   ]
  },
  {
   "cell_type": "markdown",
   "metadata": {},
   "source": [
    "Exercise 4: Guest List\n",
    "\n",
    "If you could invite anyone, living or deceased, to dinner, who would you invite? Make a list that includes at least three people you’d\n",
    "\n",
    "like to invite to dinner. Then use your list to print a message to each person, invitingthem to dinner."
   ]
  },
  {
   "cell_type": "code",
   "execution_count": 27,
   "metadata": {},
   "outputs": [
    {
     "name": "stdout",
     "output_type": "stream",
     "text": [
      "To: Ryan Reynolds \n",
      "From: Gab\n",
      "You are invited to my dinner tongiht!\n",
      "\n",
      "To: Robert Downer Jr. \n",
      "From: Gab\n",
      "You are invited to my dinner tongiht!\n",
      "\n",
      "To: Kobe Bryant \n",
      "From: Gab\n",
      "You are invited to my dinner tongiht!\n",
      "\n",
      "To: Dwayne Johnson \n",
      "From: Gab\n",
      "You are invited to my dinner tongiht!\n",
      "\n",
      "To: Jeffery Dahmer \n",
      "From: Gab\n",
      "You are invited to my dinner tongiht!\n",
      "\n"
     ]
    }
   ],
   "source": [
    "guest_list=[\"Ryan Reynolds\",\"Robert Downer Jr.\",\"Kobe Bryant\",\"Dwayne Johnson\",\"Jeffrey Dahmer\"]\n",
    "print(\"To:\",guest_list[0],\"\\nFrom: Gab\\nYou are invited to my dinner tongiht!\\n\")\n",
    "\n",
    "print(\"To:\",guest_list[1],\"\\nFrom: Gab\\nYou are invited to my dinner tongiht!\\n\")\n",
    "\n",
    "print(\"To:\",guest_list[2],\"\\nFrom: Gab\\nYou are invited to my dinner tongiht!\\n\")\n",
    "\n",
    "print(\"To:\",guest_list[3],\"\\nFrom: Gab\\nYou are invited to my dinner tongiht!\\n\")\n",
    "\n",
    "print(\"To:\",guest_list[4],\"\\nFrom: Gab\\nYou are invited to my dinner tongiht!\\n\")\n",
    "\n",
    "print(\"Im happy to say that Jeffrey Dahmer wont make it to dinner!\")"
   ]
  },
  {
   "cell_type": "markdown",
   "metadata": {},
   "source": [
    "Exercise 5: Change Guest List\n",
    "\n",
    "You just heard that one of your guests can’t make the\n",
    "dinner, so you need to send out a new set of invitations. You’ll have to think of\n",
    "someone else to invite.\n",
    "\n",
    "•Start with your program from Exercise 3-4. Add a print() call at the end of your program stating the name of the guest who can’t make it.\n",
    "\n",
    "•Modify your list, replacing the name of the guest who can’t make it with the name of the new person you are inviting.\n",
    "\n",
    "•Print a second set of invitation messages, one for each person who is still in your list."
   ]
  },
  {
   "cell_type": "code",
   "execution_count": 28,
   "metadata": {},
   "outputs": [
    {
     "name": "stdout",
     "output_type": "stream",
     "text": [
      "To: Ryan Reynolds \n",
      "From: Gab\n",
      "You are invited to my dinner tongiht!\n",
      "\n",
      "To: Robert Downer Jr. \n",
      "From: Gab\n",
      "You are invited to my dinner tongiht!\n",
      "\n",
      "To: Kobe Bryant \n",
      "From: Gab\n",
      "You are invited to my dinner tongiht!\n",
      "\n",
      "To: Dwayne Johnson \n",
      "From: Gab\n",
      "You are invited to my dinner tongiht!\n",
      "\n",
      "To: Michael Jordan \n",
      "From: Gab\n",
      "You are invited to my dinner tongiht!\n",
      "\n"
     ]
    }
   ],
   "source": [
    "guest_list[4]=\"Michael Jordan\"\n",
    "\n",
    "print(\"To:\",guest_list[0],\"\\nFrom: Gab\\nYou are invited to my dinner tongiht!\\n\")\n",
    "\n",
    "print(\"To:\",guest_list[1],\"\\nFrom: Gab\\nYou are invited to my dinner tongiht!\\n\")\n",
    "\n",
    "print(\"To:\",guest_list[2],\"\\nFrom: Gab\\nYou are invited to my dinner tongiht!\\n\")\n",
    "\n",
    "print(\"To:\",guest_list[3],\"\\nFrom: Gab\\nYou are invited to my dinner tongiht!\\n\")\n",
    "\n",
    "print(\"To:\",guest_list[4],\"\\nFrom: Gab\\nYou are invited to my dinner tongiht!\\n\")\n",
    "\n"
   ]
  },
  {
   "cell_type": "markdown",
   "metadata": {},
   "source": [
    "Exercise 6: Shrinking Guest List\n",
    "\n",
    "You just found out that your new dinner table won’t arrive in time for the dinner, and you have space for only two guests.\n",
    "\n",
    "•Start with your program from Exercise 3-5. Add a new line that prints a message saying that you can invite only two people for dinner.\n",
    "\n",
    "•Use pop() to remove guests from your list one at a time until only two names remain in your list. Each time you pop a name from your list, print a message to that person letting them know you’re sorry you can’t invite them to dinner.\n",
    "\n",
    "•Print a message to each of the two people still on your list, letting them know they’re still invited.\n",
    "\n",
    "•Use del to remove the last two names from your list, so you have an empty list. Print your list to make sure you actually have an empty list at the end of your program."
   ]
  },
  {
   "cell_type": "code",
   "execution_count": 28,
   "metadata": {},
   "outputs": [
    {
     "name": "stdout",
     "output_type": "stream",
     "text": [
      "I can only invite 2 people for my dinner\n",
      "To: Robert Downer Jr. \n",
      "From: Gab\n",
      "You are invited to my dinner tongiht!\n",
      "\n",
      "To: Dwayne Johnson \n",
      "From: Gab\n",
      "You are invited to my dinner tongiht!\n",
      "\n",
      "[]\n"
     ]
    }
   ],
   "source": [
    "guest_list=[\"Ryan Reynolds\",\"Robert Downer Jr.\",\"Kobe Bryant\",\"Dwayne Johnson\",\"Jeffrey Dahmer\"]\n",
    "\n",
    "print(\"I can only invite 2 people for my dinner\")\n",
    "\n",
    "guest_list.pop(0)\n",
    "guest_list.pop(1)\n",
    "guest_list.pop(2)\n",
    "\n",
    "print(\"To:\",guest_list[0],\"\\nFrom: Gab\\nYou are invited to my dinner tongiht!\\n\")\n",
    "print(\"To:\",guest_list[1],\"\\nFrom: Gab\\nYou are invited to my dinner tongiht!\\n\")\n",
    "\n",
    "del guest_list[0]\n",
    "del guest_list[0]\n",
    "\n",
    "print(guest_list)\n"
   ]
  },
  {
   "cell_type": "markdown",
   "metadata": {},
   "source": [
    "Exercise 7: Seeing the World \n",
    "Think of at least five places in the world you’d like to visit.\n",
    "•\t Store the locations in a list. Make sure the list is not in alphabetical order.\n",
    "\n",
    "•\t Print your list in its original order. Don’t worry about printing the list neatly,just print it as a raw Python list.\n",
    "\n",
    "•\t Use sorted() to print your list in alphabetical order without modifying the actual list.\n",
    "\n",
    "•\t Show that your list is still in its original order by printing it.\n",
    "\n",
    "•\t Use sorted() to print your list in reverse alphabetical order without changing the order of the original list.\n",
    "\n",
    "•\t Show that your list is still in its original order by printing it again.\n",
    "\n",
    "•\t Use reverse() to change the order of your list. Print the list to show that its order has changed.\n",
    "\n",
    "•\t Use reverse() to change the order of your list again. Print the list to show it’s back to its original order.\n",
    "\n",
    "•\t Use sort() to change your list so it’s stored in alphabetical order. Print the list to show that its order has been changed.\n",
    "\n",
    "•\t Use sort() to change your list so it’s stored in reverse alphabetical order. Print the list to show that its order has changed."
   ]
  },
  {
   "cell_type": "code",
   "execution_count": 46,
   "metadata": {},
   "outputs": [
    {
     "name": "stdout",
     "output_type": "stream",
     "text": [
      "['Ohio', 'Paris', 'Italy', 'Japan', 'Palawan']\n",
      "['Ohio', 'Paris', 'Italy', 'Japan', 'Palawan']\n",
      "['Ohio', 'Paris', 'Italy', 'Japan', 'Palawan']\n",
      "['Palawan', 'Japan', 'Italy', 'Paris', 'Ohio']\n",
      "['Ohio', 'Paris', 'Italy', 'Japan', 'Palawan']\n",
      "['Italy', 'Japan', 'Ohio', 'Palawan', 'Paris']\n",
      "['Paris', 'Palawan', 'Ohio', 'Japan', 'Italy']\n"
     ]
    }
   ],
   "source": [
    "places_list=[\"Ohio\",\"Paris\",\"Italy\",\"Japan\",\"Palawan\"]\n",
    "\n",
    "print(places_list)\n",
    "\n",
    "sorted(places_list)\n",
    "print(places_list)\n",
    "\n",
    "sorted(places_list, reverse=True)\n",
    "print(places_list)\n",
    "\n",
    "places_list.reverse()\n",
    "print(places_list)\n",
    "\n",
    "places_list.reverse()\n",
    "print(places_list)\n",
    "\n",
    "places_list.sort()\n",
    "print(places_list)\n",
    "\n",
    "places_list.sort(reverse=True)\n",
    "print(places_list)"
   ]
  },
  {
   "cell_type": "markdown",
   "metadata": {},
   "source": [
    "Exercise 8\n",
    "\n",
    "3 names in list"
   ]
  },
  {
   "cell_type": "code",
   "execution_count": 1,
   "metadata": {},
   "outputs": [
    {
     "name": "stdout",
     "output_type": "stream",
     "text": [
      "['Walter', 'Jimmy', 'Gus']\n"
     ]
    }
   ],
   "source": [
    "name = [\"Walter\", \"Jimmy\", \"Gus\"]\n",
    "print(name)"
   ]
  },
  {
   "cell_type": "markdown",
   "metadata": {},
   "source": [
    "Exercise 9\n",
    "\n",
    "Replacing elements in list"
   ]
  },
  {
   "cell_type": "code",
   "execution_count": 2,
   "metadata": {},
   "outputs": [
    {
     "name": "stdout",
     "output_type": "stream",
     "text": [
      "['Patrick', 'Spongebob', 'Gus', 'Jimmy', 'Walter', 'Jesse', 'Saul', 'Chad', 'Mike', 'David', 'Joshua']\n"
     ]
    }
   ],
   "source": [
    "name = [\"Gab\",\"Gus\",\"Jimmy\",\"Walter\",\"Jesse\",\"Saul\",\"Chad\",\"Mike\",\"David\",\"Joshua\"]\n",
    "name[0:1]=\"Patrick\",\"Spongebob\"\n",
    "\n",
    "print(name)"
   ]
  },
  {
   "cell_type": "markdown",
   "metadata": {},
   "source": [
    "Exercise 10\n",
    "\n",
    "Ammount of elements in list"
   ]
  },
  {
   "cell_type": "code",
   "execution_count": 3,
   "metadata": {},
   "outputs": [
    {
     "name": "stdout",
     "output_type": "stream",
     "text": [
      "10\n"
     ]
    }
   ],
   "source": [
    "name = [\"Gab\",\"Gus\",\"Jimmy\",\"Walter\",\"Jesse\",\"Saul\",\"Chad\",\"Mike\",\"David\",\"Joshua\"]\n",
    "total=len(name)\n",
    "print(total)"
   ]
  }
 ],
 "metadata": {
  "kernelspec": {
   "display_name": "Python 3.10.7 64-bit",
   "language": "python",
   "name": "python3"
  },
  "language_info": {
   "codemirror_mode": {
    "name": "ipython",
    "version": 3
   },
   "file_extension": ".py",
   "mimetype": "text/x-python",
   "name": "python",
   "nbconvert_exporter": "python",
   "pygments_lexer": "ipython3",
   "version": "3.10.7"
  },
  "orig_nbformat": 4,
  "vscode": {
   "interpreter": {
    "hash": "78fbcf19f19eae056f26805eee09cadd919941d7a37f34b166c8c6f561ef28d1"
   }
  }
 },
 "nbformat": 4,
 "nbformat_minor": 2
}
