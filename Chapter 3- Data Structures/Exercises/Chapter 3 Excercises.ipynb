{
 "cells": [
  {
   "cell_type": "markdown",
   "metadata": {},
   "source": [
    "Exercise 1: Names\n",
    "\n",
    "Store the names of a few of your friends in a list called names. Print each person’s name by accessing each element in the list, one at a\n",
    "\n",
    " time."
   ]
  },
  {
   "cell_type": "code",
   "execution_count": 7,
   "metadata": {},
   "outputs": [
    {
     "name": "stdout",
     "output_type": "stream",
     "text": [
      "Adam\n",
      "John Paul\n",
      "May\n"
     ]
    }
   ],
   "source": [
    "friends_list=[\"Adam\",\"John Paul\",\"May\"]\n",
    "print(friends_list[0])\n",
    "print(friends_list[1])\n",
    "print(friends_list[2])"
   ]
  },
  {
   "cell_type": "markdown",
   "metadata": {},
   "source": [
    "Exercise 2: Greetings\n",
    "\n",
    "Start with the list you used in Exercise 1, but instead of just\n",
    "\n",
    "printing each person’s name, print a message to them. The text of each message should be the same, but each message should be \n",
    "\n",
    "personalized with the person’s name."
   ]
  },
  {
   "cell_type": "code",
   "execution_count": 12,
   "metadata": {},
   "outputs": [
    {
     "name": "stdout",
     "output_type": "stream",
     "text": [
      "How are you Adam ?\n",
      "How are you John Paul ?\n",
      "How are you May ?\n"
     ]
    }
   ],
   "source": [
    "print(\"How are you\",friends_list[0],\"?\")\n",
    "print(\"How are you\",friends_list[1],\"?\")\n",
    "print(\"How are you\",friends_list[2],\"?\")"
   ]
  },
  {
   "cell_type": "markdown",
   "metadata": {},
   "source": [
    "Exercise 3: Your Own List\n",
    "\n",
    "Think of your favorite mode of transportation, such as a motorcycle or a car, and make a list that stores several examples. Use your list\n",
    "\n",
    "to print a series of statements about these items, such as “I would like to own a Honda motorcycle.”"
   ]
  },
  {
   "cell_type": "code",
   "execution_count": 18,
   "metadata": {},
   "outputs": [
    {
     "name": "stdout",
     "output_type": "stream",
     "text": [
      "I miss riding on Jeeps in the Philippines.\n",
      "I rarely go on Trains .\n",
      "Busses are never on time.\n",
      "Electric Cars are amazing!\n"
     ]
    }
   ],
   "source": [
    "transpo_list=[\"Busses\",\"Trains\",\"Cars\",\"Jeeps\"]\n",
    "print(\"I miss riding on\",transpo_list[3],\"in the Philippines.\")\n",
    "print(\"I rarely go on\",transpo_list[1],\".\")\n",
    "print(transpo_list[0],\"are never on time.\")\n",
    "print(\"Electric\",transpo_list[2],\"are amazing!\")"
   ]
  },
  {
   "cell_type": "markdown",
   "metadata": {},
   "source": [
    "Exercise 4: Guest List\n",
    "\n",
    "If you could invite anyone, living or deceased, to dinner, who would you invite? Make a list that includes at least three people you’d\n",
    "\n",
    "like to invite to dinner. Then use your list to print a message to each person, invitingthem to dinner."
   ]
  },
  {
   "cell_type": "code",
   "execution_count": 27,
   "metadata": {},
   "outputs": [
    {
     "name": "stdout",
     "output_type": "stream",
     "text": [
      "To: Ryan Reynolds \n",
      "From: Gab\n",
      "You are invited to my dinner tongiht!\n",
      "\n",
      "To: Robert Downer Jr. \n",
      "From: Gab\n",
      "You are invited to my dinner tongiht!\n",
      "\n",
      "To: Kobe Bryant \n",
      "From: Gab\n",
      "You are invited to my dinner tongiht!\n",
      "\n",
      "To: Dwayne Johnson \n",
      "From: Gab\n",
      "You are invited to my dinner tongiht!\n",
      "\n",
      "To: Jeffery Dahmer \n",
      "From: Gab\n",
      "You are invited to my dinner tongiht!\n",
      "\n"
     ]
    }
   ],
   "source": [
    "guest_list=[\"Ryan Reynolds\",\"Robert Downer Jr.\",\"Kobe Bryant\",\"Dwayne Johnson\",\"Jeffrey Dahmer\"]\n",
    "print(\"To:\",guest_list[0],\"\\nFrom: Gab\\nYou are invited to my dinner tongiht!\\n\")\n",
    "\n",
    "print(\"To:\",guest_list[1],\"\\nFrom: Gab\\nYou are invited to my dinner tongiht!\\n\")\n",
    "\n",
    "print(\"To:\",guest_list[2],\"\\nFrom: Gab\\nYou are invited to my dinner tongiht!\\n\")\n",
    "\n",
    "print(\"To:\",guest_list[3],\"\\nFrom: Gab\\nYou are invited to my dinner tongiht!\\n\")\n",
    "\n",
    "print(\"To:\",guest_list[4],\"\\nFrom: Gab\\nYou are invited to my dinner tongiht!\\n\")\n",
    "\n",
    "print(\"Im happy to say that Jeffrey Dahmer wont make it to dinner!\")"
   ]
  },
  {
   "cell_type": "markdown",
   "metadata": {},
   "source": [
    "Exercise 5: Change Guest List\n",
    "\n",
    "You just heard that one of your guests can’t make the\n",
    "dinner, so you need to send out a new set of invitations. You’ll have to think of\n",
    "someone else to invite.\n",
    "\n",
    "•Start with your program from Exercise 3-4. Add a print() call at the end of your program stating the name of the guest who can’t make it.\n",
    "\n",
    "•Modify your list, replacing the name of the guest who can’t make it with the name of the new person you are inviting.\n",
    "\n",
    "•Print a second set of invitation messages, one for each person who is still in your list."
   ]
  },
  {
   "cell_type": "code",
   "execution_count": 28,
   "metadata": {},
   "outputs": [
    {
     "name": "stdout",
     "output_type": "stream",
     "text": [
      "To: Ryan Reynolds \n",
      "From: Gab\n",
      "You are invited to my dinner tongiht!\n",
      "\n",
      "To: Robert Downer Jr. \n",
      "From: Gab\n",
      "You are invited to my dinner tongiht!\n",
      "\n",
      "To: Kobe Bryant \n",
      "From: Gab\n",
      "You are invited to my dinner tongiht!\n",
      "\n",
      "To: Dwayne Johnson \n",
      "From: Gab\n",
      "You are invited to my dinner tongiht!\n",
      "\n",
      "To: Michael Jordan \n",
      "From: Gab\n",
      "You are invited to my dinner tongiht!\n",
      "\n"
     ]
    }
   ],
   "source": [
    "guest_list[4]=\"Michael Jordan\"\n",
    "\n",
    "print(\"To:\",guest_list[0],\"\\nFrom: Gab\\nYou are invited to my dinner tongiht!\\n\")\n",
    "\n",
    "print(\"To:\",guest_list[1],\"\\nFrom: Gab\\nYou are invited to my dinner tongiht!\\n\")\n",
    "\n",
    "print(\"To:\",guest_list[2],\"\\nFrom: Gab\\nYou are invited to my dinner tongiht!\\n\")\n",
    "\n",
    "print(\"To:\",guest_list[3],\"\\nFrom: Gab\\nYou are invited to my dinner tongiht!\\n\")\n",
    "\n",
    "print(\"To:\",guest_list[4],\"\\nFrom: Gab\\nYou are invited to my dinner tongiht!\\n\")\n",
    "\n"
   ]
  },
  {
   "cell_type": "markdown",
   "metadata": {},
   "source": [
    ";zd;lkadlskjadfkjladfkjl;adfkjl;akjlaf"
   ]
  },
  {
   "cell_type": "code",
   "execution_count": null,
   "metadata": {},
   "outputs": [],
   "source": [
    "print(\"examplelolololololololololoololololololololololoollolool\")"
   ]
  }
 ],
 "metadata": {
  "kernelspec": {
   "display_name": "Python 3.10.7 64-bit",
   "language": "python",
   "name": "python3"
  },
  "language_info": {
   "codemirror_mode": {
    "name": "ipython",
    "version": 3
   },
   "file_extension": ".py",
   "mimetype": "text/x-python",
   "name": "python",
   "nbconvert_exporter": "python",
   "pygments_lexer": "ipython3",
   "version": "3.10.7"
  },
  "orig_nbformat": 4,
  "vscode": {
   "interpreter": {
    "hash": "78fbcf19f19eae056f26805eee09cadd919941d7a37f34b166c8c6f561ef28d1"
   }
  }
 },
 "nbformat": 4,
 "nbformat_minor": 2
}
